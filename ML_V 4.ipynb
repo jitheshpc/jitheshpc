{
 "cells": [
  {
   "cell_type": "code",
   "execution_count": 2,
   "id": "9112c39d-9baa-48f6-84b3-cd5e5ae7b7de",
   "metadata": {},
   "outputs": [],
   "source": [
    "import pandas as pd\n",
    "import numpy as np\n",
    "#import locale\n",
    "from sklearn import linear_model\n",
    "from sklearn.preprocessing import PolynomialFeatures\n",
    "from sklearn.linear_model import LinearRegression\n",
    "from sklearn.preprocessing import StandardScaler\n",
    "from sklearn.model_selection import train_test_split\n",
    "from sklearn.datasets import make_classification\n",
    "from sklearn.pipeline import Pipeline\n",
    "import seaborn as sns\n",
    "from scipy.stats import iqr\n",
    "from sklearn.metrics import mean_squared_error\n",
    "from sklearn.metrics import r2_score\n",
    "import warnings\n",
    "warnings.filterwarnings(\"ignore\")"
   ]
  },
  {
   "cell_type": "code",
   "execution_count": 3,
   "id": "4f3a0c14-8fcc-4831-af19-398b21a983d3",
   "metadata": {},
   "outputs": [
    {
     "data": {
      "text/plain": [
       "(995, 70)"
      ]
     },
     "execution_count": 3,
     "metadata": {},
     "output_type": "execute_result"
    }
   ],
   "source": [
    "df=pd.read_csv(\"Sample_Data2.csv\")\n",
    "df.shape"
   ]
  },
  {
   "cell_type": "code",
   "execution_count": 4,
   "id": "ad1b86f0-155d-444e-874a-513c8a3e8a71",
   "metadata": {},
   "outputs": [],
   "source": [
    "N=df[['category','Country','medium','AOV','CPI','CPM','CPO','CPU','CR','NR/1000 Views','Total Costs','User / View','Total NR']]"
   ]
  },
  {
   "cell_type": "code",
   "execution_count": 5,
   "id": "081f110b-7b10-4323-ba11-3837d60794a3",
   "metadata": {},
   "outputs": [],
   "source": [
    "import  re\n",
    "N['Total Costs'] = (N['Total Costs'].replace('[.\\,€]', '', regex=True).astype(float))/100\n",
    "N['Total NR'] = (N['Total NR'].replace('[.\\,€]', '', regex=True).astype(float))/100\n",
    "N['AOV'] = (N['AOV'].replace('[.\\,€]', '', regex=True).astype(float))/100\n",
    "N['CPI'] = (N['CPI'].replace('[.\\,€]', '', regex=True).astype(float))/100\n",
    "N['CPM'] = (N['CPM'].replace('[.\\,€]', '', regex=True).astype(float))/100\n",
    "N['CPO'] = (N['CPO'].replace('[.\\,€]', '', regex=True).astype(float))/100\n",
    "N['CPU'] = (N['CPU'].replace('[.\\,€]', '', regex=True).astype(float))/100\n",
    "N['CR'] = (N['CR'].replace('[.\\,%]', '', regex=True).astype(float))/100\n",
    "N['User / View'] = (N['User / View'].replace('[.\\,€]', '', regex=True).astype(float))/100"
   ]
  },
  {
   "cell_type": "code",
   "execution_count": 6,
   "id": "f174cd47-a24a-4ebd-9f36-fb5b26afb581",
   "metadata": {},
   "outputs": [],
   "source": [
    "N.to_csv(\"N.csv\")"
   ]
  },
  {
   "cell_type": "code",
   "execution_count": 7,
   "id": "f7e578aa-ce14-43ea-a983-36d04e1aecc9",
   "metadata": {},
   "outputs": [],
   "source": [
    "N.loc[N['category']=='travel ',\"category\"]='Travel'\n",
    "N.loc[N['category']=='travel',\"category\"]='Travel'\n",
    "N.loc[N['category']=='sport',\"category\"]='sports'\n",
    "N.loc[N['category']=='beauty',\"category\"]='Beauty'\n",
    "N.loc[N['category']=='fashion',\"category\"]='Fashion'\n",
    "\n",
    "N.loc[N['category']=='gaming',\"category\"]='Others'\n",
    "N.loc[N['category']=='Travel',\"category\"]='Others'\n",
    "N.loc[N['category']=='music',\"category\"]='Others'\n",
    "N.loc[N['category']=='yoga',\"category\"]='Others'\n",
    "N.loc[N['category']=='TV',\"category\"]='Others'\n",
    "N.loc[N['category']=='sustainability',\"category\"]='Others'\n",
    "N.loc[N['category']=='Beauty',\"category\"]='Others'\n",
    "N.loc[N['category']=='Sport',\"category\"]='Others'\n",
    "N.loc[N['category']=='Entertainment',\"category\"]='Others'\n",
    "N.loc[N['category']=='tech',\"category\"]='Others'\n",
    "N.loc[N['category']=='diy',\"category\"]='Others'\n",
    "N.loc[N['category']=='nutrition',\"category\"]='Others'\n",
    "N.loc[N['category']=='style',\"category\"]='Others'\n",
    "N.loc[N['category']=='food',\"category\"]='Others'\n",
    "N.loc[N['category']=='business',\"category\"]='Others'\n",
    "N.loc[N['category']=='photography',\"category\"]='Others'\n",
    "N.loc[N['category']=='fitness',\"category\"]='Others'\n",
    "N.loc[N['category']=='senior',\"category\"]='Others'"
   ]
  },
  {
   "cell_type": "code",
   "execution_count": 8,
   "id": "7123a14e-ad8f-4a0e-a0ea-1972972b395b",
   "metadata": {},
   "outputs": [
    {
     "data": {
      "text/html": [
       "<div>\n",
       "<style scoped>\n",
       "    .dataframe tbody tr th:only-of-type {\n",
       "        vertical-align: middle;\n",
       "    }\n",
       "\n",
       "    .dataframe tbody tr th {\n",
       "        vertical-align: top;\n",
       "    }\n",
       "\n",
       "    .dataframe thead th {\n",
       "        text-align: right;\n",
       "    }\n",
       "</style>\n",
       "<table border=\"1\" class=\"dataframe\">\n",
       "  <thead>\n",
       "    <tr style=\"text-align: right;\">\n",
       "      <th></th>\n",
       "      <th>category</th>\n",
       "      <th>Country</th>\n",
       "      <th>medium</th>\n",
       "      <th>AOV</th>\n",
       "      <th>CPI</th>\n",
       "      <th>CPM</th>\n",
       "      <th>CPO</th>\n",
       "      <th>CPU</th>\n",
       "      <th>CR</th>\n",
       "      <th>NR per 1000</th>\n",
       "      <th>Total Costs</th>\n",
       "      <th>User Per View</th>\n",
       "      <th>Total NR</th>\n",
       "    </tr>\n",
       "  </thead>\n",
       "  <tbody>\n",
       "    <tr>\n",
       "      <th>0</th>\n",
       "      <td>lifestyle</td>\n",
       "      <td>Germany</td>\n",
       "      <td>youtube</td>\n",
       "      <td>38.00</td>\n",
       "      <td>0.44</td>\n",
       "      <td>43.41</td>\n",
       "      <td>215.35</td>\n",
       "      <td>11.33</td>\n",
       "      <td>2.68</td>\n",
       "      <td>8.0</td>\n",
       "      <td>646.04</td>\n",
       "      <td>0.00</td>\n",
       "      <td>113.99</td>\n",
       "    </tr>\n",
       "    <tr>\n",
       "      <th>1</th>\n",
       "      <td>Others</td>\n",
       "      <td>Germany</td>\n",
       "      <td>instagram</td>\n",
       "      <td>40.37</td>\n",
       "      <td>2.62</td>\n",
       "      <td>66.35</td>\n",
       "      <td>102.16</td>\n",
       "      <td>3.40</td>\n",
       "      <td>3.19</td>\n",
       "      <td>26.0</td>\n",
       "      <td>10420.00</td>\n",
       "      <td>0.02</td>\n",
       "      <td>4117.87</td>\n",
       "    </tr>\n",
       "    <tr>\n",
       "      <th>2</th>\n",
       "      <td>family</td>\n",
       "      <td>Germany</td>\n",
       "      <td>instagram</td>\n",
       "      <td>56.57</td>\n",
       "      <td>0.52</td>\n",
       "      <td>17.69</td>\n",
       "      <td>5.94</td>\n",
       "      <td>0.66</td>\n",
       "      <td>10.55</td>\n",
       "      <td>168.0</td>\n",
       "      <td>320.94</td>\n",
       "      <td>0.03</td>\n",
       "      <td>3054.59</td>\n",
       "    </tr>\n",
       "    <tr>\n",
       "      <th>3</th>\n",
       "      <td>sports</td>\n",
       "      <td>Germany</td>\n",
       "      <td>instagram</td>\n",
       "      <td>29.87</td>\n",
       "      <td>0.55</td>\n",
       "      <td>24.07</td>\n",
       "      <td>69.47</td>\n",
       "      <td>1.34</td>\n",
       "      <td>1.84</td>\n",
       "      <td>10.0</td>\n",
       "      <td>208.40</td>\n",
       "      <td>0.02</td>\n",
       "      <td>89.62</td>\n",
       "    </tr>\n",
       "    <tr>\n",
       "      <th>4</th>\n",
       "      <td>family</td>\n",
       "      <td>Germany</td>\n",
       "      <td>instagram</td>\n",
       "      <td>33.92</td>\n",
       "      <td>1.05</td>\n",
       "      <td>21.05</td>\n",
       "      <td>390.75</td>\n",
       "      <td>7.37</td>\n",
       "      <td>1.83</td>\n",
       "      <td>2.0</td>\n",
       "      <td>3126.00</td>\n",
       "      <td>0.00</td>\n",
       "      <td>271.33</td>\n",
       "    </tr>\n",
       "  </tbody>\n",
       "</table>\n",
       "</div>"
      ],
      "text/plain": [
       "    category  Country      medium    AOV   CPI    CPM     CPO    CPU     CR  \\\n",
       "0  lifestyle  Germany     youtube  38.00  0.44  43.41  215.35  11.33   2.68   \n",
       "1     Others  Germany  instagram   40.37  2.62  66.35  102.16   3.40   3.19   \n",
       "2     family  Germany   instagram  56.57  0.52  17.69    5.94   0.66  10.55   \n",
       "3     sports  Germany   instagram  29.87  0.55  24.07   69.47   1.34   1.84   \n",
       "4     family  Germany   instagram  33.92  1.05  21.05  390.75   7.37   1.83   \n",
       "\n",
       "   NR per 1000  Total Costs  User Per View  Total NR  \n",
       "0          8.0       646.04           0.00    113.99  \n",
       "1         26.0     10420.00           0.02   4117.87  \n",
       "2        168.0       320.94           0.03   3054.59  \n",
       "3         10.0       208.40           0.02     89.62  \n",
       "4          2.0      3126.00           0.00    271.33  "
      ]
     },
     "execution_count": 8,
     "metadata": {},
     "output_type": "execute_result"
    }
   ],
   "source": [
    "N=N.rename(columns={'User / View': 'User Per View','NR/1000 Views': 'NR per 1000'})\n",
    "N.head()"
   ]
  },
  {
   "cell_type": "code",
   "execution_count": 9,
   "id": "47e2317f-074f-4863-b9d1-07fa46efb220",
   "metadata": {},
   "outputs": [
    {
     "name": "stdout",
     "output_type": "stream",
     "text": [
      "        category  Country\n",
      "3         family      377\n",
      "5      lifestyle      233\n",
      "6         sports      208\n",
      "2  entertainment       60\n",
      "1         Others       57\n",
      "0        Fashion       42\n",
      "4         health       18\n",
      "(995, 13)\n"
     ]
    }
   ],
   "source": [
    "print(N.groupby('category')['Country'].count().reset_index().sort_values('Country', ascending=False))\n",
    "print(N.shape)"
   ]
  },
  {
   "cell_type": "code",
   "execution_count": 10,
   "id": "8816cd62-72f4-4401-bcd1-5b5c2fc651d9",
   "metadata": {},
   "outputs": [
    {
     "name": "stdout",
     "output_type": "stream",
     "text": [
      "        category  Country\n",
      "3         family      377\n",
      "5      lifestyle      233\n",
      "6         sports      208\n",
      "2  entertainment       60\n",
      "1         Others       57\n",
      "0        Fashion       42\n",
      "4         health       18\n",
      "(995, 13)\n"
     ]
    }
   ],
   "source": [
    "print(N.groupby('category')['Country'].count().reset_index().sort_values('Country', ascending=False))\n",
    "print(N.shape)"
   ]
  },
  {
   "cell_type": "code",
   "execution_count": 11,
   "id": "34dbed18-d065-4a32-8fbc-12fce94b3088",
   "metadata": {},
   "outputs": [
    {
     "data": {
      "text/plain": [
       "(995, 13)"
      ]
     },
     "execution_count": 11,
     "metadata": {},
     "output_type": "execute_result"
    }
   ],
   "source": [
    "N.loc[N['medium']=='instagram',\"medium\"]='Instagram'\n",
    "N.loc[N['medium']=='instagram ',\"medium\"]='Instagram'\n",
    "N.loc[N['medium']=='blog',\"medium\"]='Blog'\n",
    "N.loc[N['medium']=='Blog',\"medium\"]='Others_M'\n",
    "N.loc[N['medium']=='pinterest',\"medium\"]='Others_M'\n",
    "N.loc[N['medium']=='podcast',\"medium\"]='Others_M'\n",
    "N.loc[N['medium']=='snapchat',\"medium\"]='Others_M'\n",
    "N.shape"
   ]
  },
  {
   "cell_type": "code",
   "execution_count": 12,
   "id": "958ae488-e209-499d-9304-b7b3879d75be",
   "metadata": {},
   "outputs": [
    {
     "data": {
      "text/html": [
       "<div>\n",
       "<style scoped>\n",
       "    .dataframe tbody tr th:only-of-type {\n",
       "        vertical-align: middle;\n",
       "    }\n",
       "\n",
       "    .dataframe tbody tr th {\n",
       "        vertical-align: top;\n",
       "    }\n",
       "\n",
       "    .dataframe thead th {\n",
       "        text-align: right;\n",
       "    }\n",
       "</style>\n",
       "<table border=\"1\" class=\"dataframe\">\n",
       "  <thead>\n",
       "    <tr style=\"text-align: right;\">\n",
       "      <th></th>\n",
       "      <th>medium</th>\n",
       "      <th>Country</th>\n",
       "    </tr>\n",
       "  </thead>\n",
       "  <tbody>\n",
       "    <tr>\n",
       "      <th>0</th>\n",
       "      <td>Instagram</td>\n",
       "      <td>968</td>\n",
       "    </tr>\n",
       "    <tr>\n",
       "      <th>3</th>\n",
       "      <td>youtube</td>\n",
       "      <td>12</td>\n",
       "    </tr>\n",
       "    <tr>\n",
       "      <th>2</th>\n",
       "      <td>twitch</td>\n",
       "      <td>10</td>\n",
       "    </tr>\n",
       "    <tr>\n",
       "      <th>1</th>\n",
       "      <td>tiktok</td>\n",
       "      <td>5</td>\n",
       "    </tr>\n",
       "  </tbody>\n",
       "</table>\n",
       "</div>"
      ],
      "text/plain": [
       "      medium  Country\n",
       "0  Instagram      968\n",
       "3    youtube       12\n",
       "2     twitch       10\n",
       "1     tiktok        5"
      ]
     },
     "execution_count": 12,
     "metadata": {},
     "output_type": "execute_result"
    }
   ],
   "source": [
    "N.groupby('medium')['Country'].count().reset_index().sort_values('Country', ascending=False)"
   ]
  },
  {
   "cell_type": "code",
   "execution_count": 13,
   "id": "d64cdf48-c4cd-4b40-bd9a-7b279e0f3373",
   "metadata": {},
   "outputs": [
    {
     "data": {
      "text/html": [
       "<div>\n",
       "<style scoped>\n",
       "    .dataframe tbody tr th:only-of-type {\n",
       "        vertical-align: middle;\n",
       "    }\n",
       "\n",
       "    .dataframe tbody tr th {\n",
       "        vertical-align: top;\n",
       "    }\n",
       "\n",
       "    .dataframe thead th {\n",
       "        text-align: right;\n",
       "    }\n",
       "</style>\n",
       "<table border=\"1\" class=\"dataframe\">\n",
       "  <thead>\n",
       "    <tr style=\"text-align: right;\">\n",
       "      <th></th>\n",
       "      <th>category</th>\n",
       "      <th>Country</th>\n",
       "      <th>medium</th>\n",
       "      <th>AOV</th>\n",
       "      <th>CPI</th>\n",
       "      <th>CPM</th>\n",
       "      <th>CPO</th>\n",
       "      <th>CPU</th>\n",
       "      <th>CR</th>\n",
       "      <th>NR per 1000</th>\n",
       "      <th>Total Costs</th>\n",
       "      <th>User Per View</th>\n",
       "      <th>Total NR</th>\n",
       "    </tr>\n",
       "  </thead>\n",
       "  <tbody>\n",
       "    <tr>\n",
       "      <th>0</th>\n",
       "      <td>lifestyle</td>\n",
       "      <td>Germany</td>\n",
       "      <td>youtube</td>\n",
       "      <td>38.00</td>\n",
       "      <td>0.44</td>\n",
       "      <td>43.41</td>\n",
       "      <td>215.35</td>\n",
       "      <td>11.33</td>\n",
       "      <td>2.68</td>\n",
       "      <td>8.0</td>\n",
       "      <td>646.04</td>\n",
       "      <td>0.00</td>\n",
       "      <td>113.99</td>\n",
       "    </tr>\n",
       "    <tr>\n",
       "      <th>1</th>\n",
       "      <td>Others</td>\n",
       "      <td>Germany</td>\n",
       "      <td>Instagram</td>\n",
       "      <td>40.37</td>\n",
       "      <td>2.62</td>\n",
       "      <td>66.35</td>\n",
       "      <td>102.16</td>\n",
       "      <td>3.40</td>\n",
       "      <td>3.19</td>\n",
       "      <td>26.0</td>\n",
       "      <td>10420.00</td>\n",
       "      <td>0.02</td>\n",
       "      <td>4117.87</td>\n",
       "    </tr>\n",
       "    <tr>\n",
       "      <th>2</th>\n",
       "      <td>family</td>\n",
       "      <td>Germany</td>\n",
       "      <td>Instagram</td>\n",
       "      <td>56.57</td>\n",
       "      <td>0.52</td>\n",
       "      <td>17.69</td>\n",
       "      <td>5.94</td>\n",
       "      <td>0.66</td>\n",
       "      <td>10.55</td>\n",
       "      <td>168.0</td>\n",
       "      <td>320.94</td>\n",
       "      <td>0.03</td>\n",
       "      <td>3054.59</td>\n",
       "    </tr>\n",
       "    <tr>\n",
       "      <th>3</th>\n",
       "      <td>sports</td>\n",
       "      <td>Germany</td>\n",
       "      <td>Instagram</td>\n",
       "      <td>29.87</td>\n",
       "      <td>0.55</td>\n",
       "      <td>24.07</td>\n",
       "      <td>69.47</td>\n",
       "      <td>1.34</td>\n",
       "      <td>1.84</td>\n",
       "      <td>10.0</td>\n",
       "      <td>208.40</td>\n",
       "      <td>0.02</td>\n",
       "      <td>89.62</td>\n",
       "    </tr>\n",
       "    <tr>\n",
       "      <th>4</th>\n",
       "      <td>family</td>\n",
       "      <td>Germany</td>\n",
       "      <td>Instagram</td>\n",
       "      <td>33.92</td>\n",
       "      <td>1.05</td>\n",
       "      <td>21.05</td>\n",
       "      <td>390.75</td>\n",
       "      <td>7.37</td>\n",
       "      <td>1.83</td>\n",
       "      <td>2.0</td>\n",
       "      <td>3126.00</td>\n",
       "      <td>0.00</td>\n",
       "      <td>271.33</td>\n",
       "    </tr>\n",
       "  </tbody>\n",
       "</table>\n",
       "</div>"
      ],
      "text/plain": [
       "    category  Country     medium    AOV   CPI    CPM     CPO    CPU     CR  \\\n",
       "0  lifestyle  Germany    youtube  38.00  0.44  43.41  215.35  11.33   2.68   \n",
       "1     Others  Germany  Instagram  40.37  2.62  66.35  102.16   3.40   3.19   \n",
       "2     family  Germany  Instagram  56.57  0.52  17.69    5.94   0.66  10.55   \n",
       "3     sports  Germany  Instagram  29.87  0.55  24.07   69.47   1.34   1.84   \n",
       "4     family  Germany  Instagram  33.92  1.05  21.05  390.75   7.37   1.83   \n",
       "\n",
       "   NR per 1000  Total Costs  User Per View  Total NR  \n",
       "0          8.0       646.04           0.00    113.99  \n",
       "1         26.0     10420.00           0.02   4117.87  \n",
       "2        168.0       320.94           0.03   3054.59  \n",
       "3         10.0       208.40           0.02     89.62  \n",
       "4          2.0      3126.00           0.00    271.33  "
      ]
     },
     "execution_count": 13,
     "metadata": {},
     "output_type": "execute_result"
    }
   ],
   "source": [
    "N=N.dropna(axis=0,how='all',subset=['AOV','CPI','CPM','CPO','CPU','CR','NR per 1000','User Per View','Total Costs'])\n",
    "N.head()"
   ]
  },
  {
   "cell_type": "code",
   "execution_count": 14,
   "id": "07e8a095-e218-458f-a899-7a32174234dc",
   "metadata": {},
   "outputs": [],
   "source": [
    "mean_CPM=N['CPM'].mean()\n",
    "mean_AOV=N['AOV'].mean()\n",
    "mean_CPU=N['CPU'].mean()\n",
    "mean_CPI=N['CPI'].mean()\n",
    "mean_CPO=N['CPO'].mean()\n",
    "mean_CR=N['CR'].mean()\n",
    "mean_TotalCosts=N['Total Costs'].mean()\n",
    "mean_NR=N['NR per 1000'].mean()\n",
    "mean_User_View=N['User Per View'].mean()\n",
    "\n",
    "median_CPM=N['CPM'].median()\n",
    "median_AOV=N['AOV'].median()\n",
    "median_CPU=N['CPU'].median()\n",
    "median_CPI=N['CPI'].median()\n",
    "median_CPO=N['CPO'].median()\n",
    "median_CR=N['CR'].median()\n",
    "median_TotalCosts=N['Total Costs'].median()\n",
    "median_NR=N['NR per 1000'].median()\n",
    "median_User_View=N['User Per View'].median()"
   ]
  },
  {
   "cell_type": "code",
   "execution_count": 15,
   "id": "6c5566b8-0604-4037-9c51-f844c8ba293e",
   "metadata": {},
   "outputs": [],
   "source": [
    "N['CPM']=N['CPM'].fillna(0)\n",
    "N['AOV']=N['AOV'].fillna(0)\n",
    "N['CPU']=N['CPU'].fillna(0)\n",
    "N['CPI']=N['CPI'].fillna(0)\n",
    "N['CPO']=N['CPO'].fillna(0)\n",
    "N['CR']=N['CR'].fillna(0)\n",
    "N['Total Costs']=N['Total Costs'].fillna(0)\n",
    "N['NR per 1000']=N['NR per 1000'].fillna(0)\n",
    "N['User Per View']=N['User Per View'].fillna(0)\n",
    "\n",
    "\n",
    "#N['CPM']=N['CPM'].fillna(0)\n",
    "#N['AOV']=N['AOV'].fillna(0)\n",
    "#N['CPU']=N['CPU'].fillna(0)\n",
    "#N['CPI']=N['CPI'].fillna(0)\n",
    "#N['CPO']=N['CPO'].fillna(0)\n",
    "#N['CR']=N['CR'].fillna(0)\n",
    "#N['Total Costs']=N['Total Costs'].fillna(0)\n",
    "#N['NR per 1000']=N['NR per 1000'].fillna(0)\n",
    "#N['User Per View']=N['User Per View'].fillna(0)"
   ]
  },
  {
   "cell_type": "code",
   "execution_count": 16,
   "id": "2147d608-b7df-4e85-a8f1-cabc39350cf0",
   "metadata": {},
   "outputs": [
    {
     "data": {
      "text/html": [
       "<div>\n",
       "<style scoped>\n",
       "    .dataframe tbody tr th:only-of-type {\n",
       "        vertical-align: middle;\n",
       "    }\n",
       "\n",
       "    .dataframe tbody tr th {\n",
       "        vertical-align: top;\n",
       "    }\n",
       "\n",
       "    .dataframe thead th {\n",
       "        text-align: right;\n",
       "    }\n",
       "</style>\n",
       "<table border=\"1\" class=\"dataframe\">\n",
       "  <thead>\n",
       "    <tr style=\"text-align: right;\">\n",
       "      <th></th>\n",
       "      <th>category</th>\n",
       "      <th>Country</th>\n",
       "      <th>medium</th>\n",
       "      <th>AOV</th>\n",
       "      <th>CPI</th>\n",
       "      <th>CPM</th>\n",
       "      <th>CPO</th>\n",
       "      <th>CPU</th>\n",
       "      <th>CR</th>\n",
       "      <th>NR per 1000</th>\n",
       "      <th>Total Costs</th>\n",
       "      <th>User Per View</th>\n",
       "      <th>Total NR</th>\n",
       "    </tr>\n",
       "  </thead>\n",
       "  <tbody>\n",
       "    <tr>\n",
       "      <th>0</th>\n",
       "      <td>lifestyle</td>\n",
       "      <td>Germany</td>\n",
       "      <td>youtube</td>\n",
       "      <td>38.00</td>\n",
       "      <td>0.44</td>\n",
       "      <td>43.41</td>\n",
       "      <td>215.35</td>\n",
       "      <td>11.33</td>\n",
       "      <td>2.68</td>\n",
       "      <td>8.0</td>\n",
       "      <td>646.04</td>\n",
       "      <td>0.00</td>\n",
       "      <td>113.99</td>\n",
       "    </tr>\n",
       "    <tr>\n",
       "      <th>1</th>\n",
       "      <td>Others</td>\n",
       "      <td>Germany</td>\n",
       "      <td>Instagram</td>\n",
       "      <td>40.37</td>\n",
       "      <td>2.62</td>\n",
       "      <td>66.35</td>\n",
       "      <td>102.16</td>\n",
       "      <td>3.40</td>\n",
       "      <td>3.19</td>\n",
       "      <td>26.0</td>\n",
       "      <td>10420.00</td>\n",
       "      <td>0.02</td>\n",
       "      <td>4117.87</td>\n",
       "    </tr>\n",
       "    <tr>\n",
       "      <th>2</th>\n",
       "      <td>family</td>\n",
       "      <td>Germany</td>\n",
       "      <td>Instagram</td>\n",
       "      <td>56.57</td>\n",
       "      <td>0.52</td>\n",
       "      <td>17.69</td>\n",
       "      <td>5.94</td>\n",
       "      <td>0.66</td>\n",
       "      <td>10.55</td>\n",
       "      <td>168.0</td>\n",
       "      <td>320.94</td>\n",
       "      <td>0.03</td>\n",
       "      <td>3054.59</td>\n",
       "    </tr>\n",
       "    <tr>\n",
       "      <th>3</th>\n",
       "      <td>sports</td>\n",
       "      <td>Germany</td>\n",
       "      <td>Instagram</td>\n",
       "      <td>29.87</td>\n",
       "      <td>0.55</td>\n",
       "      <td>24.07</td>\n",
       "      <td>69.47</td>\n",
       "      <td>1.34</td>\n",
       "      <td>1.84</td>\n",
       "      <td>10.0</td>\n",
       "      <td>208.40</td>\n",
       "      <td>0.02</td>\n",
       "      <td>89.62</td>\n",
       "    </tr>\n",
       "    <tr>\n",
       "      <th>4</th>\n",
       "      <td>family</td>\n",
       "      <td>Germany</td>\n",
       "      <td>Instagram</td>\n",
       "      <td>33.92</td>\n",
       "      <td>1.05</td>\n",
       "      <td>21.05</td>\n",
       "      <td>390.75</td>\n",
       "      <td>7.37</td>\n",
       "      <td>1.83</td>\n",
       "      <td>2.0</td>\n",
       "      <td>3126.00</td>\n",
       "      <td>0.00</td>\n",
       "      <td>271.33</td>\n",
       "    </tr>\n",
       "  </tbody>\n",
       "</table>\n",
       "</div>"
      ],
      "text/plain": [
       "    category  Country     medium    AOV   CPI    CPM     CPO    CPU     CR  \\\n",
       "0  lifestyle  Germany    youtube  38.00  0.44  43.41  215.35  11.33   2.68   \n",
       "1     Others  Germany  Instagram  40.37  2.62  66.35  102.16   3.40   3.19   \n",
       "2     family  Germany  Instagram  56.57  0.52  17.69    5.94   0.66  10.55   \n",
       "3     sports  Germany  Instagram  29.87  0.55  24.07   69.47   1.34   1.84   \n",
       "4     family  Germany  Instagram  33.92  1.05  21.05  390.75   7.37   1.83   \n",
       "\n",
       "   NR per 1000  Total Costs  User Per View  Total NR  \n",
       "0          8.0       646.04           0.00    113.99  \n",
       "1         26.0     10420.00           0.02   4117.87  \n",
       "2        168.0       320.94           0.03   3054.59  \n",
       "3         10.0       208.40           0.02     89.62  \n",
       "4          2.0      3126.00           0.00    271.33  "
      ]
     },
     "execution_count": 16,
     "metadata": {},
     "output_type": "execute_result"
    }
   ],
   "source": [
    "N.head()"
   ]
  },
  {
   "cell_type": "code",
   "execution_count": 17,
   "id": "b92e4900-7dde-4766-87b9-558be52d4666",
   "metadata": {},
   "outputs": [],
   "source": [
    "#N['AOV']=(N['AOV']-N['AOV'].mean())/N['AOV'].std()\n",
    "#N['CPI']=(N['CPI']-N['CPI'].mean())/N['CPI'].std()\n",
    "#N['CPO']=(N['CPO']-N['CPO'].mean())/N['CPO'].std()\n",
    "#N['CPU']=(N['CPU']-N['CPU'].mean())/N['CPU'].std()\n",
    "#N['Total Costs']=(N['Total Costs']-N['Total Costs'].mean())/N['Total Costs'].std()\n",
    "N['AOV']=(N['AOV']-N['AOV'].min())/(N['AOV'].max()-N['AOV'].min())\n",
    "N['CPM']=(N['CPM']-N['CPM'].min())/(N['CPM'].max()-N['CPM'].min())\n",
    "N['CPI']=(N['CPI']-N['CPI'].min())/(N['CPI'].max()-N['CPI'].min())\n",
    "N['CPO']=(N['CPO']-N['CPO'].min())/(N['CPO'].max()-N['CPO'].min())\n",
    "N['CPU']=(N['CPU']-N['CPU'].min())/(N['CPU'].max()-N['CPU'].min())\n",
    "N['Total Costs']=(N['Total Costs']-N['Total Costs'].min())/(N['Total Costs'].max()-N['Total Costs'].min())\n",
    "N['CR']=(N['CR']-N['CR'].min())/(N['CR'].max()-N['CR'].min())\n",
    "N['NR per 1000']=(N['NR per 1000']-N['NR per 1000'].min())/(N['NR per 1000'].max()-N['NR per 1000'].min())\n",
    "N['User Per View']=(N['User Per View']-N['User Per View'].min())/(N['User Per View'].max()-N['User Per View'].min())\n"
   ]
  },
  {
   "cell_type": "code",
   "execution_count": 18,
   "id": "2eebdb70-f0b2-4594-a4f4-f349cfd3758e",
   "metadata": {},
   "outputs": [
    {
     "data": {
      "text/html": [
       "<div>\n",
       "<style scoped>\n",
       "    .dataframe tbody tr th:only-of-type {\n",
       "        vertical-align: middle;\n",
       "    }\n",
       "\n",
       "    .dataframe tbody tr th {\n",
       "        vertical-align: top;\n",
       "    }\n",
       "\n",
       "    .dataframe thead th {\n",
       "        text-align: right;\n",
       "    }\n",
       "</style>\n",
       "<table border=\"1\" class=\"dataframe\">\n",
       "  <thead>\n",
       "    <tr style=\"text-align: right;\">\n",
       "      <th></th>\n",
       "      <th>category</th>\n",
       "      <th>Country</th>\n",
       "      <th>medium</th>\n",
       "      <th>AOV</th>\n",
       "      <th>CPI</th>\n",
       "      <th>CPM</th>\n",
       "      <th>CPO</th>\n",
       "      <th>CPU</th>\n",
       "      <th>CR</th>\n",
       "      <th>NR per 1000</th>\n",
       "      <th>Total Costs</th>\n",
       "      <th>User Per View</th>\n",
       "      <th>Total NR</th>\n",
       "    </tr>\n",
       "  </thead>\n",
       "  <tbody>\n",
       "    <tr>\n",
       "      <th>0</th>\n",
       "      <td>lifestyle</td>\n",
       "      <td>Germany</td>\n",
       "      <td>youtube</td>\n",
       "      <td>0.007037</td>\n",
       "      <td>0.012937</td>\n",
       "      <td>0.129493</td>\n",
       "      <td>0.107675</td>\n",
       "      <td>0.261482</td>\n",
       "      <td>0.178840</td>\n",
       "      <td>0.008753</td>\n",
       "      <td>0.057407</td>\n",
       "      <td>0.000000</td>\n",
       "      <td>113.99</td>\n",
       "    </tr>\n",
       "    <tr>\n",
       "      <th>1</th>\n",
       "      <td>Others</td>\n",
       "      <td>Germany</td>\n",
       "      <td>Instagram</td>\n",
       "      <td>0.007668</td>\n",
       "      <td>0.077036</td>\n",
       "      <td>0.197924</td>\n",
       "      <td>0.051080</td>\n",
       "      <td>0.078468</td>\n",
       "      <td>0.213652</td>\n",
       "      <td>0.028446</td>\n",
       "      <td>0.925926</td>\n",
       "      <td>0.105263</td>\n",
       "      <td>4117.87</td>\n",
       "    </tr>\n",
       "    <tr>\n",
       "      <th>2</th>\n",
       "      <td>family</td>\n",
       "      <td>Germany</td>\n",
       "      <td>Instagram</td>\n",
       "      <td>0.011981</td>\n",
       "      <td>0.015290</td>\n",
       "      <td>0.052770</td>\n",
       "      <td>0.002970</td>\n",
       "      <td>0.015232</td>\n",
       "      <td>0.716041</td>\n",
       "      <td>0.183807</td>\n",
       "      <td>0.028519</td>\n",
       "      <td>0.157895</td>\n",
       "      <td>3054.59</td>\n",
       "    </tr>\n",
       "    <tr>\n",
       "      <th>3</th>\n",
       "      <td>sports</td>\n",
       "      <td>Germany</td>\n",
       "      <td>Instagram</td>\n",
       "      <td>0.004872</td>\n",
       "      <td>0.016172</td>\n",
       "      <td>0.071801</td>\n",
       "      <td>0.034735</td>\n",
       "      <td>0.030925</td>\n",
       "      <td>0.121502</td>\n",
       "      <td>0.010941</td>\n",
       "      <td>0.018519</td>\n",
       "      <td>0.105263</td>\n",
       "      <td>89.62</td>\n",
       "    </tr>\n",
       "    <tr>\n",
       "      <th>4</th>\n",
       "      <td>family</td>\n",
       "      <td>Germany</td>\n",
       "      <td>Instagram</td>\n",
       "      <td>0.005951</td>\n",
       "      <td>0.030873</td>\n",
       "      <td>0.062793</td>\n",
       "      <td>0.195375</td>\n",
       "      <td>0.170090</td>\n",
       "      <td>0.120819</td>\n",
       "      <td>0.002188</td>\n",
       "      <td>0.277778</td>\n",
       "      <td>0.000000</td>\n",
       "      <td>271.33</td>\n",
       "    </tr>\n",
       "  </tbody>\n",
       "</table>\n",
       "</div>"
      ],
      "text/plain": [
       "    category  Country     medium       AOV       CPI       CPM       CPO  \\\n",
       "0  lifestyle  Germany    youtube  0.007037  0.012937  0.129493  0.107675   \n",
       "1     Others  Germany  Instagram  0.007668  0.077036  0.197924  0.051080   \n",
       "2     family  Germany  Instagram  0.011981  0.015290  0.052770  0.002970   \n",
       "3     sports  Germany  Instagram  0.004872  0.016172  0.071801  0.034735   \n",
       "4     family  Germany  Instagram  0.005951  0.030873  0.062793  0.195375   \n",
       "\n",
       "        CPU        CR  NR per 1000  Total Costs  User Per View  Total NR  \n",
       "0  0.261482  0.178840     0.008753     0.057407       0.000000    113.99  \n",
       "1  0.078468  0.213652     0.028446     0.925926       0.105263   4117.87  \n",
       "2  0.015232  0.716041     0.183807     0.028519       0.157895   3054.59  \n",
       "3  0.030925  0.121502     0.010941     0.018519       0.105263     89.62  \n",
       "4  0.170090  0.120819     0.002188     0.277778       0.000000    271.33  "
      ]
     },
     "execution_count": 18,
     "metadata": {},
     "output_type": "execute_result"
    }
   ],
   "source": [
    "N.head()"
   ]
  },
  {
   "cell_type": "code",
   "execution_count": 19,
   "id": "63444327-61d5-4b0d-8132-35e413781fc8",
   "metadata": {},
   "outputs": [],
   "source": [
    "dmy_country=pd.get_dummies(N['Country'])\n",
    "dmy_medium=pd.get_dummies(N['medium'])\n",
    "dmy_category=pd.get_dummies(N['category'])"
   ]
  },
  {
   "cell_type": "code",
   "execution_count": 20,
   "id": "9ba58bbb-99c6-46f0-a42e-b40e88351db2",
   "metadata": {},
   "outputs": [],
   "source": [
    "dmy_country=dmy_country.drop(['Switzerland'],axis='columns')\n"
   ]
  },
  {
   "cell_type": "code",
   "execution_count": 21,
   "id": "7a91a028-7389-4d11-a839-09855c3a59c7",
   "metadata": {},
   "outputs": [],
   "source": [
    "#dmy_country"
   ]
  },
  {
   "cell_type": "code",
   "execution_count": 22,
   "id": "beddc962-7c03-4d0b-b852-1a88bf5a4e49",
   "metadata": {},
   "outputs": [],
   "source": [
    "Merged=pd.concat([N,dmy_country,dmy_medium,dmy_category],axis='columns')"
   ]
  },
  {
   "cell_type": "code",
   "execution_count": 23,
   "id": "adc7c743-b9cd-487a-b3a7-d85565241afc",
   "metadata": {},
   "outputs": [],
   "source": [
    "Merged=Merged.drop(columns=['category', 'Country','medium'])"
   ]
  },
  {
   "cell_type": "code",
   "execution_count": 24,
   "id": "65ffe81d-5948-4e48-9585-dc9134a25f63",
   "metadata": {},
   "outputs": [],
   "source": [
    "#Merged.dtypes"
   ]
  },
  {
   "cell_type": "code",
   "execution_count": 25,
   "id": "c540a71c-5d56-4842-be4e-2ab3041040d6",
   "metadata": {},
   "outputs": [],
   "source": [
    "CPO_LOL=np.quantile(Merged['CPO'],.25, interpolation='midpoint')-iqr(Merged['CPO'])\n",
    "CPO_HOL=np.quantile(Merged['CPO'],.75, interpolation='midpoint')+iqr(Merged['CPO'])\n",
    "Merged = Merged[(Merged['CPO'] < CPO_HOL) & (Merged['CPO'] > CPO_LOL) ]\n",
    "\n",
    "AOV_LOL=np.quantile(Merged['AOV'],.25, interpolation='midpoint')-iqr(Merged['AOV'])\n",
    "AOV_HOL=np.quantile(Merged['AOV'],.75, interpolation='midpoint')+iqr(Merged['AOV'])\n",
    "Merged = Merged[(Merged['AOV'] < AOV_HOL) & (Merged['AOV'] > AOV_LOL) ]\n",
    "\n",
    "CPI_LOL=np.quantile(Merged['CPI'],.25, interpolation='midpoint')-iqr(Merged['CPI'])\n",
    "CPI_HOL=np.quantile(Merged['CPI'],.75, interpolation='midpoint')+iqr(Merged['CPI'])\n",
    "Merged = Merged[(Merged['CPI'] < CPI_HOL) & (Merged['CPI'] > CPI_LOL) ]\n",
    "\n",
    "\n",
    "CPM_LOL=np.quantile(Merged['CPM'],.25, interpolation='midpoint')-iqr(Merged['CPM'])\n",
    "CPM_HOL=np.quantile(Merged['CPM'],.75, interpolation='midpoint')+iqr(Merged['CPM'])\n",
    "Merged = Merged[(Merged['CPM'] < CPM_HOL) & (Merged['CPM'] > CPM_LOL) ]\n",
    "\n",
    "CPU_LOL=np.quantile(Merged['CPU'],.25, interpolation='midpoint')-iqr(Merged['CPU'])\n",
    "CPU_HOL=np.quantile(Merged['CPU'],.75, interpolation='midpoint')+iqr(Merged['CPU'])\n",
    "Merged = Merged[(Merged['CPU'] < CPU_HOL) & (Merged['CPU'] > CPU_LOL) ]\n",
    "\n",
    "CR_LOL=np.quantile(Merged['CR'],.25, interpolation='midpoint')-iqr(Merged['CR'])\n",
    "CR_HOL=np.quantile(Merged['CR'],.75, interpolation='midpoint')+iqr(Merged['CR'])\n",
    "Merged = Merged[(Merged['CR'] < CR_HOL) & (Merged['CR'] > CR_LOL) ]\n",
    "\n",
    "NRP100_LOL=np.quantile(Merged['NR per 1000'],.25, interpolation='midpoint')-iqr(Merged['NR per 1000'])\n",
    "NRP100_HOL=np.quantile(Merged['NR per 1000'],.75, interpolation='midpoint')+iqr(Merged['NR per 1000'])\n",
    "Merged = Merged[(Merged['NR per 1000'] < NRP100_HOL) & (Merged['NR per 1000'] > NRP100_LOL) ]"
   ]
  },
  {
   "cell_type": "code",
   "execution_count": 38,
   "id": "b91faaa6-a070-4257-b40b-b3cfb8a436a1",
   "metadata": {},
   "outputs": [
    {
     "name": "stdout",
     "output_type": "stream",
     "text": [
      "-0.026258205689277902\n"
     ]
    }
   ],
   "source": [
    "Merged.shape\n",
    "print(NRP100_LOL)"
   ]
  },
  {
   "cell_type": "code",
   "execution_count": 39,
   "id": "27afa7e0-431f-4fd4-bb6b-cdbc7c6a7d6e",
   "metadata": {},
   "outputs": [],
   "source": [
    "reg=linear_model.LinearRegression()\n"
   ]
  },
  {
   "cell_type": "code",
   "execution_count": 40,
   "id": "942a1201-19a9-4548-a6fd-4812ef53319e",
   "metadata": {},
   "outputs": [],
   "source": [
    "#X=Merged[['AOV', 'CPI', 'CPM','CPO','CPU','CR','NR per 1000','Total Costs','User Per View','Austria','Germany','France','Instagram','Others_M','tiktok','twitch','youtube','Fashion','Others','entertainment','family','health','lifestyle','sports']]\n",
    "X=Merged[['AOV', 'CPI','CPO', 'CPM','CPU','CR','NR per 1000','Total Costs','Instagram','tiktok','twitch','youtube']]"
   ]
  },
  {
   "cell_type": "code",
   "execution_count": 66,
   "id": "a79c407b-4491-4282-9e8b-b130f056f10c",
   "metadata": {},
   "outputs": [],
   "source": [
    "y=Merged['Total NR']\n",
    "X_train, X_test, y_train, y_test = train_test_split(X,y, test_size=0.1)"
   ]
  },
  {
   "cell_type": "code",
   "execution_count": 67,
   "id": "7b943383-5d31-4815-8a46-03c68e3c67ca",
   "metadata": {},
   "outputs": [
    {
     "data": {
      "text/html": [
       "<div>\n",
       "<style scoped>\n",
       "    .dataframe tbody tr th:only-of-type {\n",
       "        vertical-align: middle;\n",
       "    }\n",
       "\n",
       "    .dataframe tbody tr th {\n",
       "        vertical-align: top;\n",
       "    }\n",
       "\n",
       "    .dataframe thead th {\n",
       "        text-align: right;\n",
       "    }\n",
       "</style>\n",
       "<table border=\"1\" class=\"dataframe\">\n",
       "  <thead>\n",
       "    <tr style=\"text-align: right;\">\n",
       "      <th></th>\n",
       "      <th>AOV</th>\n",
       "      <th>CPI</th>\n",
       "      <th>CPO</th>\n",
       "      <th>CPM</th>\n",
       "      <th>CPU</th>\n",
       "      <th>CR</th>\n",
       "      <th>NR per 1000</th>\n",
       "      <th>Total Costs</th>\n",
       "      <th>Instagram</th>\n",
       "      <th>tiktok</th>\n",
       "      <th>twitch</th>\n",
       "      <th>youtube</th>\n",
       "    </tr>\n",
       "  </thead>\n",
       "  <tbody>\n",
       "    <tr>\n",
       "      <th>501</th>\n",
       "      <td>0.004489</td>\n",
       "      <td>0.016172</td>\n",
       "      <td>0.010000</td>\n",
       "      <td>0.055425</td>\n",
       "      <td>0.017771</td>\n",
       "      <td>0.240273</td>\n",
       "      <td>0.028446</td>\n",
       "      <td>0.026658</td>\n",
       "      <td>1</td>\n",
       "      <td>0</td>\n",
       "      <td>0</td>\n",
       "      <td>0</td>\n",
       "    </tr>\n",
       "    <tr>\n",
       "      <th>794</th>\n",
       "      <td>0.004707</td>\n",
       "      <td>0.041164</td>\n",
       "      <td>0.014815</td>\n",
       "      <td>0.093011</td>\n",
       "      <td>0.040157</td>\n",
       "      <td>0.374061</td>\n",
       "      <td>0.033917</td>\n",
       "      <td>0.284353</td>\n",
       "      <td>1</td>\n",
       "      <td>0</td>\n",
       "      <td>0</td>\n",
       "      <td>0</td>\n",
       "    </tr>\n",
       "    <tr>\n",
       "      <th>730</th>\n",
       "      <td>0.007284</td>\n",
       "      <td>0.005293</td>\n",
       "      <td>0.019920</td>\n",
       "      <td>0.047400</td>\n",
       "      <td>0.006231</td>\n",
       "      <td>0.040956</td>\n",
       "      <td>0.017505</td>\n",
       "      <td>0.060185</td>\n",
       "      <td>1</td>\n",
       "      <td>0</td>\n",
       "      <td>0</td>\n",
       "      <td>0</td>\n",
       "    </tr>\n",
       "    <tr>\n",
       "      <th>863</th>\n",
       "      <td>0.002252</td>\n",
       "      <td>0.038812</td>\n",
       "      <td>0.078125</td>\n",
       "      <td>0.060913</td>\n",
       "      <td>0.048004</td>\n",
       "      <td>0.079863</td>\n",
       "      <td>0.003282</td>\n",
       "      <td>0.055538</td>\n",
       "      <td>1</td>\n",
       "      <td>0</td>\n",
       "      <td>0</td>\n",
       "      <td>0</td>\n",
       "    </tr>\n",
       "    <tr>\n",
       "      <th>693</th>\n",
       "      <td>0.003544</td>\n",
       "      <td>0.006763</td>\n",
       "      <td>0.003295</td>\n",
       "      <td>0.059064</td>\n",
       "      <td>0.014540</td>\n",
       "      <td>0.589761</td>\n",
       "      <td>0.082057</td>\n",
       "      <td>0.012885</td>\n",
       "      <td>1</td>\n",
       "      <td>0</td>\n",
       "      <td>0</td>\n",
       "      <td>0</td>\n",
       "    </tr>\n",
       "  </tbody>\n",
       "</table>\n",
       "</div>"
      ],
      "text/plain": [
       "          AOV       CPI       CPO       CPM       CPU        CR  NR per 1000  \\\n",
       "501  0.004489  0.016172  0.010000  0.055425  0.017771  0.240273     0.028446   \n",
       "794  0.004707  0.041164  0.014815  0.093011  0.040157  0.374061     0.033917   \n",
       "730  0.007284  0.005293  0.019920  0.047400  0.006231  0.040956     0.017505   \n",
       "863  0.002252  0.038812  0.078125  0.060913  0.048004  0.079863     0.003282   \n",
       "693  0.003544  0.006763  0.003295  0.059064  0.014540  0.589761     0.082057   \n",
       "\n",
       "     Total Costs  Instagram  tiktok  twitch  youtube  \n",
       "501     0.026658          1       0       0        0  \n",
       "794     0.284353          1       0       0        0  \n",
       "730     0.060185          1       0       0        0  \n",
       "863     0.055538          1       0       0        0  \n",
       "693     0.012885          1       0       0        0  "
      ]
     },
     "execution_count": 67,
     "metadata": {},
     "output_type": "execute_result"
    }
   ],
   "source": [
    "X_train.head()"
   ]
  },
  {
   "cell_type": "code",
   "execution_count": 68,
   "id": "834b6a6b-4eaf-4fab-a5a4-576713c93e02",
   "metadata": {},
   "outputs": [
    {
     "data": {
      "text/plain": [
       "LinearRegression(copy_X=True, fit_intercept=True, n_jobs=None,\n",
       "         normalize=False)"
      ]
     },
     "execution_count": 68,
     "metadata": {},
     "output_type": "execute_result"
    }
   ],
   "source": [
    "reg.fit(X_train,y_train)\n",
    "#reg.fit(Merged[['Total Costs']],Merged['Total NR'])"
   ]
  },
  {
   "cell_type": "code",
   "execution_count": 69,
   "id": "48fd1d5e-ad3a-47f9-91d9-d48535e14fd3",
   "metadata": {},
   "outputs": [],
   "source": [
    "yhat=reg.predict(X_test)"
   ]
  },
  {
   "cell_type": "code",
   "execution_count": 70,
   "id": "d95af512-b161-482b-bb3b-be19876811a8",
   "metadata": {},
   "outputs": [],
   "source": [
    "import seaborn as sns"
   ]
  },
  {
   "cell_type": "code",
   "execution_count": 71,
   "id": "7873981f-abcb-4bad-aec2-f6e4229a240a",
   "metadata": {},
   "outputs": [
    {
     "data": {
      "text/plain": [
       "<AxesSubplot:xlabel='Total NR'>"
      ]
     },
     "execution_count": 71,
     "metadata": {},
     "output_type": "execute_result"
    },
    {
     "data": {
      "image/png": "[encoded data removed]",
      "text/plain": [
       "<Figure size 432x288 with 1 Axes>"
      ]
     },
     "metadata": {
      "needs_background": "light"
     },
     "output_type": "display_data"
    }
   ],
   "source": [
    "ax1=sns.distplot(Merged['Total NR'],hist=False,color='r',label=\"Actual Value\")\n",
    "sns.distplot(yhat, hist=False,color='b',label=\"Fitted Value\",ax=ax1)"
   ]
  },
  {
   "cell_type": "code",
   "execution_count": 89,
   "id": "589a9b5a-131d-47b6-b8bc-af32e5e3c5cd",
   "metadata": {},
   "outputs": [
    {
     "data": {
      "text/plain": [
       "0.6620654466832891"
      ]
     },
     "execution_count": 89,
     "metadata": {},
     "output_type": "execute_result"
    }
   ],
   "source": [
    "reg.score"
   ]
  },
  {
   "cell_type": "code",
   "execution_count": 85,
   "id": "1c050b70-dcdf-4689-a44a-8d49025930cb",
   "metadata": {},
   "outputs": [
    {
     "data": {
      "text/plain": [
       "0.9293839427201465"
      ]
     },
     "execution_count": 85,
     "metadata": {},
     "output_type": "execute_result"
    }
   ],
   "source": [
    "r2_score(y_test,ypipe )"
   ]
  },
  {
   "cell_type": "code",
   "execution_count": 86,
   "id": "029ecb3e-9682-42f5-a20b-a7d15c61b96c",
   "metadata": {},
   "outputs": [],
   "source": [
    "Input=[('scale',StandardScaler()), ('polynomial', PolynomialFeatures(include_bias=False)), ('model',LinearRegression())]\n",
    "pipe=Pipeline(Input)"
   ]
  },
  {
   "cell_type": "code",
   "execution_count": 87,
   "id": "2cc1cd68-7314-4454-9ad1-cfed0c8f2c9c",
   "metadata": {},
   "outputs": [
    {
     "name": "stderr",
     "output_type": "stream",
     "text": [
      "/home/jupyterlab/conda/envs/python/lib/python3.6/site-packages/sklearn/preprocessing/data.py:625: DataConversionWarning: Data with input dtype uint8, float64 were all converted to float64 by StandardScaler.\n",
      "  return self.partial_fit(X, y)\n",
      "/home/jupyterlab/conda/envs/python/lib/python3.6/site-packages/sklearn/base.py:465: DataConversionWarning: Data with input dtype uint8, float64 were all converted to float64 by StandardScaler.\n",
      "  return self.fit(X, y, **fit_params).transform(X)\n"
     ]
    },
    {
     "data": {
      "text/plain": [
       "Pipeline(memory=None,\n",
       "     steps=[('scale', StandardScaler(copy=True, with_mean=True, with_std=True)), ('polynomial', PolynomialFeatures(degree=2, include_bias=False, interaction_only=False)), ('model', LinearRegression(copy_X=True, fit_intercept=True, n_jobs=None,\n",
       "         normalize=False))])"
      ]
     },
     "execution_count": 87,
     "metadata": {},
     "output_type": "execute_result"
    }
   ],
   "source": [
    "pipe.fit(X_train,y_train)"
   ]
  },
  {
   "cell_type": "code",
   "execution_count": 88,
   "id": "20f9f3bc-3a38-4411-83bd-02e373838ca8",
   "metadata": {},
   "outputs": [
    {
     "name": "stderr",
     "output_type": "stream",
     "text": [
      "/home/jupyterlab/conda/envs/python/lib/python3.6/site-packages/sklearn/pipeline.py:331: DataConversionWarning: Data with input dtype uint8, float64 were all converted to float64 by StandardScaler.\n",
      "  Xt = transform.transform(Xt)\n"
     ]
    }
   ],
   "source": [
    "ypipe=pipe.predict(X_test)"
   ]
  },
  {
   "cell_type": "code",
   "execution_count": null,
   "id": "186971c5-e53b-4ff2-ac84-bf6ef25db848",
   "metadata": {},
   "outputs": [],
   "source": []
  },
  {
   "cell_type": "code",
   "execution_count": 79,
   "id": "ac44f431-12e6-4f5a-9c0f-6901bf7db128",
   "metadata": {},
   "outputs": [
    {
     "data": {
      "text/plain": [
       "0.9293839427201465"
      ]
     },
     "execution_count": 79,
     "metadata": {},
     "output_type": "execute_result"
    }
   ],
   "source": [
    "r_squared = r2_score(y_test,ypipe )\n",
    "r_squared"
   ]
  },
  {
   "cell_type": "code",
   "execution_count": 80,
   "id": "433871d2-1999-4093-9689-7208c741cd99",
   "metadata": {},
   "outputs": [],
   "source": [
    " from sklearn.metrics import mean_squared_error"
   ]
  },
  {
   "cell_type": "code",
   "execution_count": 81,
   "id": "a8da3bc0-b4cc-4493-be9f-4efafbff1fef",
   "metadata": {},
   "outputs": [
    {
     "data": {
      "text/plain": [
       "385.6306767309595"
      ]
     },
     "execution_count": 81,
     "metadata": {},
     "output_type": "execute_result"
    }
   ],
   "source": [
    "np.sqrt(mean_squared_error(y_test,ypipe))"
   ]
  },
  {
   "cell_type": "code",
   "execution_count": 82,
   "id": "4c9c076e-b66e-4270-bed9-71292f5e5c80",
   "metadata": {},
   "outputs": [
    {
     "data": {
      "text/plain": [
       "<AxesSubplot:xlabel='Total NR'>"
      ]
     },
     "execution_count": 82,
     "metadata": {},
     "output_type": "execute_result"
    },
    {
     "data": {
      "image/png": "[encoded data removed]",
      "text/plain": [
       "<Figure size 432x288 with 1 Axes>"
      ]
     },
     "metadata": {
      "needs_background": "light"
     },
     "output_type": "display_data"
    }
   ],
   "source": [
    "ax1=sns.distplot(y_test,hist=False,color='r',label=\"Actual Value\")\n",
    "sns.distplot(ypipe, hist=False,color='b',label=\"Fitted Value\",ax=ax1)"
   ]
  },
  {
   "cell_type": "code",
   "execution_count": null,
   "id": "67f78018-924e-4739-910e-3469ea3851d8",
   "metadata": {},
   "outputs": [],
   "source": []
  },
  {
   "cell_type": "code",
   "execution_count": null,
   "id": "2eaf4e2e-f696-498b-9fc4-3c2b8473114a",
   "metadata": {},
   "outputs": [],
   "source": []
  }
 ],
 "metadata": {
  "kernelspec": {
   "display_name": "Python",
   "language": "python",
   "name": "conda-env-python-py"
  },
  "language_info": {
   "codemirror_mode": {
    "name": "ipython",
    "version": 3
   },
   "file_extension": ".py",
   "mimetype": "text/x-python",
   "name": "python",
   "nbconvert_exporter": "python",
   "pygments_lexer": "ipython3",
   "version": "3.7.12"
  }
 },
 "nbformat": 4,
 "nbformat_minor": 5
}
